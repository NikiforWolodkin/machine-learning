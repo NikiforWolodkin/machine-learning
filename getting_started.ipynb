{
 "cells": [
  {
   "cell_type": "code",
   "execution_count": 1,
   "id": "e70122f9-62f8-451b-b74f-bd8ba5a88c03",
   "metadata": {},
   "outputs": [
    {
     "name": "stderr",
     "output_type": "stream",
     "text": [
      "C:\\Users\\User\\AppData\\Local\\Temp\\ipykernel_11396\\123012540.py:2: DeprecationWarning: \n",
      "Pyarrow will become a required dependency of pandas in the next major release of pandas (pandas 3.0),\n",
      "(to allow more performant data types, such as the Arrow string type, and better interoperability with other libraries)\n",
      "but was not found to be installed on your system.\n",
      "If this would cause problems for you,\n",
      "please provide us feedback at https://github.com/pandas-dev/pandas/issues/54466\n",
      "        \n",
      "  import pandas\n"
     ]
    },
    {
     "name": "stdout",
     "output_type": "stream",
     "text": [
      "версияPython: 3.10.6 (tags/v3.10.6:9c7b4bd, Aug  1 2022, 21:53:49) [MSC v.1932 64 bit (AMD64)]\n",
      "версияpandas: 2.2.0\n",
      "версияmatplotlib: 3.8.2\n",
      "версияNumPy: 1.26.4\n",
      "версияSciPy: 1.12.0\n",
      "версияIPython: 8.21.0\n",
      "версияscikit-learn: 1.4.0\n"
     ]
    }
   ],
   "source": [
    "import sys\n",
    "import pandas\n",
    "import matplotlib\n",
    "import numpy\n",
    "import scipy\n",
    "import IPython\n",
    "import sklearn\n",
    "\n",
    "print(\"версияPython: {}\".format(sys.version))\n",
    "print(\"версияpandas: {}\".format(pandas.__version__))\n",
    "print(\"версияmatplotlib: {}\".format(matplotlib.__version__))\n",
    "print(\"версияNumPy: {}\".format(numpy.__version__))\n",
    "print(\"версияSciPy: {}\".format(scipy.__version__))\n",
    "print(\"версияIPython: {}\".format(IPython.__version__))\n",
    "print(\"версияscikit-learn: {}\".format(sklearn.__version__))"
   ]
  },
  {
   "cell_type": "code",
   "execution_count": null,
   "id": "6e3f77a3-15a6-407e-b5ca-4becd2956814",
   "metadata": {},
   "outputs": [],
   "source": []
  }
 ],
 "metadata": {
  "kernelspec": {
   "display_name": "Python 3 (ipykernel)",
   "language": "python",
   "name": "python3"
  },
  "language_info": {
   "codemirror_mode": {
    "name": "ipython",
    "version": 3
   },
   "file_extension": ".py",
   "mimetype": "text/x-python",
   "name": "python",
   "nbconvert_exporter": "python",
   "pygments_lexer": "ipython3",
   "version": "3.10.6"
  }
 },
 "nbformat": 4,
 "nbformat_minor": 5
}
